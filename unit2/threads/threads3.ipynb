{
 "cells": [
  {
   "cell_type": "code",
   "execution_count": 5,
   "id": "4ca52565",
   "metadata": {},
   "outputs": [
    {
     "name": "stdout",
     "output_type": "stream",
     "text": [
      "Processando o arquivo : teste1.txt\n",
      "Processando o arquivo : teste2.txt\n",
      "Processando o arquivo : teste3.txt\n",
      "Processando o arquivo : teste4.txt\n",
      "Processando o arquivo : teste6.txt\n",
      "Processando o arquivo : teste5.txt\n",
      "Processando o arquivo : teste7.txt\n",
      "Processando o arquivo : teste8.txt\n",
      "Processando o arquivo : teste9.txt\n",
      "Processando o arquivo : teste10.txt\n",
      "As tarefas levaram  0.01 segundo(s) para executar.\n"
     ]
    }
   ],
   "source": [
    "from threading import Thread\n",
    "from time import perf_counter\n",
    "import os\n",
    "\n",
    "def substituir(filename, substr, new_substr):\n",
    "    diretorio = os.path.abspath(os.getcwd() + '/threads3files')\n",
    "    print(f'Processando o arquivo : {filename}')\n",
    "    # Lendo conteudo do arquivo\n",
    "    with open(diretorio + '/' + filename, 'r') as f:\n",
    "        conteudo = f.read()\n",
    "\n",
    "    # Substituindo a string por uma nova\n",
    "    conteudo = conteudo.replace(substr, new_substr)\n",
    "\n",
    "    # Gravando dados no arquivo\n",
    "    with open(diretorio + '/' + filename, 'w') as f:\n",
    "        f.write(conteudo)\n",
    "\n",
    "if __name__ == \"__main__\":\n",
    "    start_time = perf_counter()\n",
    "    \n",
    "    arquivos = [\n",
    "        'teste1.txt',\n",
    "        'teste2.txt',\n",
    "        'teste3.txt',\n",
    "        'teste4.txt',\n",
    "        'teste5.txt',\n",
    "        'teste6.txt',\n",
    "        'teste7.txt',\n",
    "        'teste8.txt',\n",
    "        'teste9.txt',\n",
    "        'teste10.txt',\n",
    "    ]\n",
    "\n",
    "    # Criando uma thread para cada arquivo\n",
    "    threads = [Thread(target=substituir, args=(filename, 'Senpre', 'Sempre')) for filename in arquivos]\n",
    "\n",
    "    # Inicializando threads\n",
    "    for thread in threads:\n",
    "        thread.start()\n",
    "\n",
    "    # Aguardando as threads finalizarem para o codigo continuar a execucao\n",
    "    for thread in threads:\n",
    "        thread.join()\n",
    "\n",
    "    end_time = perf_counter()\n",
    "    print(f'As tarefas levaram {end_time- start_time: 0.2f} segundo(s) para executar.')"
   ]
  },
  {
   "cell_type": "markdown",
   "id": "cedf7381",
   "metadata": {},
   "source": [
    "## Undo"
   ]
  },
  {
   "cell_type": "code",
   "execution_count": 6,
   "id": "957d317a",
   "metadata": {},
   "outputs": [
    {
     "name": "stdout",
     "output_type": "stream",
     "text": [
      "Processando o arquivo : teste1.txt\n",
      "Processando o arquivo : teste2.txt\n",
      "Processando o arquivo : teste3.txt\n",
      "Processando o arquivo : teste4.txt\n",
      "Processando o arquivo : teste5.txt\n",
      "Processando o arquivo : teste6.txt\n",
      "Processando o arquivo : teste7.txt\n",
      "Processando o arquivo : teste8.txt\n",
      "Processando o arquivo : teste9.txt\n",
      "Processando o arquivo : teste10.txt\n",
      "As tarefas levaram  0.01 segundo(s) para executar.\n"
     ]
    }
   ],
   "source": [
    "from threading import Thread\n",
    "from time import perf_counter\n",
    "import os\n",
    "\n",
    "def substituir(filename, substr, new_substr):\n",
    "    diretorio = os.path.abspath(os.getcwd() + '/threads3files')\n",
    "    print(f'Processando o arquivo : {filename}')\n",
    "    # Lendo conteudo do arquivo\n",
    "    with open(diretorio + '/' + filename, 'r') as f:\n",
    "        conteudo = f.read()\n",
    "\n",
    "    # Substituindo a string por uma nova\n",
    "    conteudo = conteudo.replace(substr, new_substr)\n",
    "\n",
    "    # Gravando dados no arquivo\n",
    "    with open(diretorio + '/' + filename, 'w') as f:\n",
    "        f.write(conteudo)\n",
    "\n",
    "if __name__ == \"__main__\":\n",
    "    start_time = perf_counter()\n",
    "    \n",
    "    arquivos = [\n",
    "        'teste1.txt',\n",
    "        'teste2.txt',\n",
    "        'teste3.txt',\n",
    "        'teste4.txt',\n",
    "        'teste5.txt',\n",
    "        'teste6.txt',\n",
    "        'teste7.txt',\n",
    "        'teste8.txt',\n",
    "        'teste9.txt',\n",
    "        'teste10.txt',\n",
    "    ]\n",
    "\n",
    "    # Criando uma thread para cada arquivo\n",
    "    threads = [Thread(target=substituir, args=(filename, 'Sempre', 'Senpre')) for filename in arquivos]\n",
    "\n",
    "    # Inicializando threads\n",
    "    for thread in threads:\n",
    "        thread.start()\n",
    "\n",
    "    # Aguardando as threads finalizarem para o codigo continuar a execucao\n",
    "    for thread in threads:\n",
    "        thread.join()\n",
    "\n",
    "    end_time = perf_counter()\n",
    "    print(f'As tarefas levaram {end_time- start_time: 0.2f} segundo(s) para executar.')"
   ]
  }
 ],
 "metadata": {
  "kernelspec": {
   "display_name": "base",
   "language": "python",
   "name": "python3"
  },
  "language_info": {
   "codemirror_mode": {
    "name": "ipython",
    "version": 3
   },
   "file_extension": ".py",
   "mimetype": "text/x-python",
   "name": "python",
   "nbconvert_exporter": "python",
   "pygments_lexer": "ipython3",
   "version": "3.12.3"
  }
 },
 "nbformat": 4,
 "nbformat_minor": 5
}
