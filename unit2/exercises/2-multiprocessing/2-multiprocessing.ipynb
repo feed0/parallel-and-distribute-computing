{
 "cells": [
  {
   "cell_type": "markdown",
   "id": "31f14816",
   "metadata": {},
   "source": [
    "# Exercício no 2 - “Monitor com Multiprocessing”\n",
    "\n",
    "> O objetivo deste exercício é adaptar o código do exercício no1 (“Monitor com Threads”) para o\n",
    "uso de multiprocessing.\n",
    "\n",
    "- Crie um “pool” com **3 subprocessos** e distribua os dados utilizando “map”.\n",
    "- O **intervalo de verificação** deverá ser um valor sorteado entre 1 e 5 segundos, não deverá ser\n",
    "passado como parâmetro.\n",
    "- A **quantidade de verificações** será um valor fixo: 5 verificações para cada subprocesso.\n",
    "- Modifique o código e **acrescente mais algumas URLs** de sites de notícias e analise o comportamento do código."
   ]
  },
  {
   "cell_type": "code",
   "execution_count": 13,
   "id": "7e5388cc",
   "metadata": {},
   "outputs": [],
   "source": [
    "import multiprocessing\n",
    "from time import perf_counter\n",
    "from random import randint\n",
    "import os\n",
    "\n",
    "# SiteMonitor \n",
    "import sys; sys.path.append('..')\n",
    "import site_monitoring as sm"
   ]
  },
  {
   "cell_type": "code",
   "execution_count": 5,
   "id": "64f79e31",
   "metadata": {},
   "outputs": [],
   "source": [
    "sm.MONITORING_INTERVAL      = randint(1, 5)\n",
    "sm.MONITORING_COUNT_TARGET  = 5\n",
    "sm.SITES.append('https://www.cnn.com/')\n",
    "\n",
    "# Globals\n",
    "sites_data = []"
   ]
  },
  {
   "cell_type": "code",
   "execution_count": null,
   "id": "55d4cdb5",
   "metadata": {},
   "outputs": [],
   "source": [
    "def monitor_site(site: str):\n",
    "    global sites_data\n",
    "    \n",
    "    current_process = multiprocessing.current_process()\n",
    "\n",
    "    site_monitor = sm.SiteMonitor()\n",
    "    data = site_monitor.monitor_and_get_data(site)\n",
    "\n",
    "    # display(data)\n",
    "\n",
    "    sites_data.append(data)"
   ]
  },
  {
   "cell_type": "code",
   "execution_count": 10,
   "id": "b39200a6",
   "metadata": {},
   "outputs": [
    {
     "name": "stdout",
     "output_type": "stream",
     "text": [
      "[2025-09-09 22:38:59.645194] Monitoring attempt: (0) Url: https://noticias.uol.com.br/ Did change?: False | Hashes latest: 5ad2479944f4609ecb6eaa9fea1d3eb8874205febcae73e632e8f75b VS. previous: None\n",
      "[2025-09-09 22:38:59.723220] Monitoring attempt: (0) Url: https://www.r7.com/ Did change?: False | Hashes latest: 81a90499adbd640ed2d0f2bc11b8bcde258c7d540e5b6ffe95633c4a VS. previous: None\n",
      "[2025-09-09 22:39:00.296433] Monitoring attempt: (0) Url: https://g1.globo.com/ Did change?: False | Hashes latest: f083c2ff91cab500e3e5f6422afa0ecde3ec93b60d78bd72f2c88690 VS. previous: None\n",
      "[2025-09-09 22:39:04.689938] Monitoring attempt: (1) Url: https://noticias.uol.com.br/ Did change?: True | Hashes latest: da99bfd762960e23b5da7c0b75464777516486754da88d04334b096b VS. previous: 5ad2479944f4609ecb6eaa9fea1d3eb8874205febcae73e632e8f75b\n",
      "[2025-09-09 22:39:04.885027] Monitoring attempt: (1) Url: https://www.r7.com/ Did change?: True | Hashes latest: f55ef5952ce7569582c7f3270d90afaa3e7635855d065abeca9890f0 VS. previous: 81a90499adbd640ed2d0f2bc11b8bcde258c7d540e5b6ffe95633c4a\n",
      "[2025-09-09 22:39:06.129408] Monitoring attempt: (1) Url: https://g1.globo.com/ Did change?: True | Hashes latest: f3817ef0649f1009060386a7c24446d15f63dfa0e93e04ad157da423 VS. previous: f083c2ff91cab500e3e5f6422afa0ecde3ec93b60d78bd72f2c88690\n",
      "[2025-09-09 22:39:09.726953] Monitoring attempt: (2) Url: https://noticias.uol.com.br/ Did change?: True | Hashes latest: c9b232931e586dc3bd9653b5b10e76e3edf21b0044fcf3b3f2e30d64 VS. previous: da99bfd762960e23b5da7c0b75464777516486754da88d04334b096b\n",
      "[2025-09-09 22:39:10.027080] Monitoring attempt: (2) Url: https://www.r7.com/ Did change?: True | Hashes latest: 7831d5d4191fbd4334f411b8cd4dff75f23b25f80feec61c4fa8d247 VS. previous: f55ef5952ce7569582c7f3270d90afaa3e7635855d065abeca9890f0\n",
      "[2025-09-09 22:39:11.978507] Monitoring attempt: (2) Url: https://g1.globo.com/ Did change?: True | Hashes latest: 743fb126270bf43ebd723f8d8b33f97fb7ca090e9711b36743deb9a0 VS. previous: f3817ef0649f1009060386a7c24446d15f63dfa0e93e04ad157da423\n",
      "[2025-09-09 22:39:14.765381] Monitoring attempt: (3) Url: https://noticias.uol.com.br/ Did change?: True | Hashes latest: e6ad06f94b32eaab456bf51c683af5048a02c4f793957b53438c6753 VS. previous: c9b232931e586dc3bd9653b5b10e76e3edf21b0044fcf3b3f2e30d64\n",
      "[2025-09-09 22:39:15.283599] Monitoring attempt: (3) Url: https://www.r7.com/ Did change?: True | Hashes latest: a34c57687cfa6465d95224575f76a77bf0f306cf4ffca669a1ccd092 VS. previous: 7831d5d4191fbd4334f411b8cd4dff75f23b25f80feec61c4fa8d247\n",
      "[2025-09-09 22:39:17.897555] Monitoring attempt: (3) Url: https://g1.globo.com/ Did change?: True | Hashes latest: 91d1830d0e3ab98b06a3d8de0ff1e6902c06049ea044d3b961d1607b VS. previous: 743fb126270bf43ebd723f8d8b33f97fb7ca090e9711b36743deb9a0\n",
      "[2025-09-09 22:39:19.941195] Monitoring attempt: (4) Url: https://noticias.uol.com.br/ Did change?: True | Hashes latest: fc420a8451816cefc52d77bcc581cc360f239e80849f1515df827c12 VS. previous: e6ad06f94b32eaab456bf51c683af5048a02c4f793957b53438c6753\n",
      "[2025-09-09 22:39:20.507985] Monitoring attempt: (4) Url: https://www.r7.com/ Did change?: True | Hashes latest: 7f2ff821696375a4e0de9940d6cd28e062db73e9a687247501761791 VS. previous: a34c57687cfa6465d95224575f76a77bf0f306cf4ffca669a1ccd092\n",
      "[2025-09-09 22:39:23.730119] Monitoring attempt: (4) Url: https://g1.globo.com/ Did change?: True | Hashes latest: 2d6a6b8639319a2fa0ac62539ee031f40297083851f4c47a19da8f10 VS. previous: 91d1830d0e3ab98b06a3d8de0ff1e6902c06049ea044d3b961d1607b\n"
     ]
    },
    {
     "data": {
      "text/html": [
       "<div>\n",
       "<style scoped>\n",
       "    .dataframe tbody tr th:only-of-type {\n",
       "        vertical-align: middle;\n",
       "    }\n",
       "\n",
       "    .dataframe tbody tr th {\n",
       "        vertical-align: top;\n",
       "    }\n",
       "\n",
       "    .dataframe thead th {\n",
       "        text-align: right;\n",
       "    }\n",
       "</style>\n",
       "<table border=\"1\" class=\"dataframe\">\n",
       "  <thead>\n",
       "    <tr style=\"text-align: right;\">\n",
       "      <th></th>\n",
       "      <th>timestamp</th>\n",
       "      <th>attempt</th>\n",
       "      <th>url</th>\n",
       "      <th>changed</th>\n",
       "      <th>latest</th>\n",
       "      <th>previous</th>\n",
       "    </tr>\n",
       "  </thead>\n",
       "  <tbody>\n",
       "    <tr>\n",
       "      <th>0</th>\n",
       "      <td>2025-09-09 22:39:19.940541</td>\n",
       "      <td>4</td>\n",
       "      <td>https://noticias.uol.com.br/</td>\n",
       "      <td>True</td>\n",
       "      <td>fc420a8451816cefc52d77bcc581cc360f239e80849f15...</td>\n",
       "      <td>e6ad06f94b32eaab456bf51c683af5048a02c4f793957b...</td>\n",
       "    </tr>\n",
       "  </tbody>\n",
       "</table>\n",
       "</div>"
      ],
      "text/plain": [
       "                   timestamp  attempt                           url  changed  \\\n",
       "0 2025-09-09 22:39:19.940541        4  https://noticias.uol.com.br/     True   \n",
       "\n",
       "                                              latest  \\\n",
       "0  fc420a8451816cefc52d77bcc581cc360f239e80849f15...   \n",
       "\n",
       "                                            previous  \n",
       "0  e6ad06f94b32eaab456bf51c683af5048a02c4f793957b...  "
      ]
     },
     "metadata": {},
     "output_type": "display_data"
    },
    {
     "name": "stdout",
     "output_type": "stream",
     "text": [
      "[2025-09-09 22:39:25.175832] Monitoring attempt: (0) Url: https://www.cnnbrasil.com.br/ Did change?: False | Hashes latest: 8829153364a827e47f34093451adf4b4a65980636b582faf150cedb1 VS. previous: None\n"
     ]
    },
    {
     "data": {
      "text/html": [
       "<div>\n",
       "<style scoped>\n",
       "    .dataframe tbody tr th:only-of-type {\n",
       "        vertical-align: middle;\n",
       "    }\n",
       "\n",
       "    .dataframe tbody tr th {\n",
       "        vertical-align: top;\n",
       "    }\n",
       "\n",
       "    .dataframe thead th {\n",
       "        text-align: right;\n",
       "    }\n",
       "</style>\n",
       "<table border=\"1\" class=\"dataframe\">\n",
       "  <thead>\n",
       "    <tr style=\"text-align: right;\">\n",
       "      <th></th>\n",
       "      <th>timestamp</th>\n",
       "      <th>attempt</th>\n",
       "      <th>url</th>\n",
       "      <th>changed</th>\n",
       "      <th>latest</th>\n",
       "      <th>previous</th>\n",
       "    </tr>\n",
       "  </thead>\n",
       "  <tbody>\n",
       "    <tr>\n",
       "      <th>0</th>\n",
       "      <td>2025-09-09 22:39:20.507253</td>\n",
       "      <td>4</td>\n",
       "      <td>https://www.r7.com/</td>\n",
       "      <td>True</td>\n",
       "      <td>7f2ff821696375a4e0de9940d6cd28e062db73e9a68724...</td>\n",
       "      <td>a34c57687cfa6465d95224575f76a77bf0f306cf4ffca6...</td>\n",
       "    </tr>\n",
       "  </tbody>\n",
       "</table>\n",
       "</div>"
      ],
      "text/plain": [
       "                   timestamp  attempt                  url  changed  \\\n",
       "0 2025-09-09 22:39:20.507253        4  https://www.r7.com/     True   \n",
       "\n",
       "                                              latest  \\\n",
       "0  7f2ff821696375a4e0de9940d6cd28e062db73e9a68724...   \n",
       "\n",
       "                                            previous  \n",
       "0  a34c57687cfa6465d95224575f76a77bf0f306cf4ffca6...  "
      ]
     },
     "metadata": {},
     "output_type": "display_data"
    },
    {
     "name": "stdout",
     "output_type": "stream",
     "text": [
      "[2025-09-09 22:39:25.641503] Monitoring attempt: (0) Url: https://www.cnn.com/ Did change?: False | Hashes latest: 8fc9d5ef0b2e3f7e5eba1a45eb15b8ea7c1b730a2e23bf3cf619d7d2 VS. previous: None\n"
     ]
    },
    {
     "data": {
      "text/html": [
       "<div>\n",
       "<style scoped>\n",
       "    .dataframe tbody tr th:only-of-type {\n",
       "        vertical-align: middle;\n",
       "    }\n",
       "\n",
       "    .dataframe tbody tr th {\n",
       "        vertical-align: top;\n",
       "    }\n",
       "\n",
       "    .dataframe thead th {\n",
       "        text-align: right;\n",
       "    }\n",
       "</style>\n",
       "<table border=\"1\" class=\"dataframe\">\n",
       "  <thead>\n",
       "    <tr style=\"text-align: right;\">\n",
       "      <th></th>\n",
       "      <th>timestamp</th>\n",
       "      <th>attempt</th>\n",
       "      <th>url</th>\n",
       "      <th>changed</th>\n",
       "      <th>latest</th>\n",
       "      <th>previous</th>\n",
       "    </tr>\n",
       "  </thead>\n",
       "  <tbody>\n",
       "    <tr>\n",
       "      <th>0</th>\n",
       "      <td>2025-09-09 22:39:23.729394</td>\n",
       "      <td>4</td>\n",
       "      <td>https://g1.globo.com/</td>\n",
       "      <td>True</td>\n",
       "      <td>2d6a6b8639319a2fa0ac62539ee031f40297083851f4c4...</td>\n",
       "      <td>91d1830d0e3ab98b06a3d8de0ff1e6902c06049ea044d3...</td>\n",
       "    </tr>\n",
       "  </tbody>\n",
       "</table>\n",
       "</div>"
      ],
      "text/plain": [
       "                   timestamp  attempt                    url  changed  \\\n",
       "0 2025-09-09 22:39:23.729394        4  https://g1.globo.com/     True   \n",
       "\n",
       "                                              latest  \\\n",
       "0  2d6a6b8639319a2fa0ac62539ee031f40297083851f4c4...   \n",
       "\n",
       "                                            previous  \n",
       "0  91d1830d0e3ab98b06a3d8de0ff1e6902c06049ea044d3...  "
      ]
     },
     "metadata": {},
     "output_type": "display_data"
    },
    {
     "name": "stdout",
     "output_type": "stream",
     "text": [
      "[2025-09-09 22:39:28.819977] Monitoring attempt: (0) Url: https://www.cnn.com/ Did change?: False | Hashes latest: 8fc9d5ef0b2e3f7e5eba1a45eb15b8ea7c1b730a2e23bf3cf619d7d2 VS. previous: None\n",
      "[2025-09-09 22:39:30.492897] Monitoring attempt: (1) Url: https://www.cnnbrasil.com.br/ Did change?: True | Hashes latest: f89ad2fa254e2f74ecff633f65fcf182eabf47fcc16fe19881cf9c60 VS. previous: 8829153364a827e47f34093451adf4b4a65980636b582faf150cedb1\n",
      "[2025-09-09 22:39:30.729936] Monitoring attempt: (1) Url: https://www.cnn.com/ Did change?: False | Hashes latest: 8fc9d5ef0b2e3f7e5eba1a45eb15b8ea7c1b730a2e23bf3cf619d7d2 VS. previous: 8fc9d5ef0b2e3f7e5eba1a45eb15b8ea7c1b730a2e23bf3cf619d7d2\n",
      "[2025-09-09 22:39:33.900836] Monitoring attempt: (1) Url: https://www.cnn.com/ Did change?: True | Hashes latest: 27f7278128a22b669c3220dd33f72b49024f038a51a9c7372f70ec84 VS. previous: 8fc9d5ef0b2e3f7e5eba1a45eb15b8ea7c1b730a2e23bf3cf619d7d2\n",
      "[2025-09-09 22:39:35.682831] Monitoring attempt: (2) Url: https://www.cnnbrasil.com.br/ Did change?: True | Hashes latest: fb2133d6b28f3ea97a81a885fa941b489a9ac19304409176d82777d5 VS. previous: f89ad2fa254e2f74ecff633f65fcf182eabf47fcc16fe19881cf9c60\n",
      "[2025-09-09 22:39:35.813141] Monitoring attempt: (2) Url: https://www.cnn.com/ Did change?: True | Hashes latest: 27f7278128a22b669c3220dd33f72b49024f038a51a9c7372f70ec84 VS. previous: 8fc9d5ef0b2e3f7e5eba1a45eb15b8ea7c1b730a2e23bf3cf619d7d2\n",
      "[2025-09-09 22:39:38.984449] Monitoring attempt: (2) Url: https://www.cnn.com/ Did change?: True | Hashes latest: 3c0a5e1dcb913d707853e19c4a9ac4e4261984f1065aa245053ac386 VS. previous: 27f7278128a22b669c3220dd33f72b49024f038a51a9c7372f70ec84\n",
      "[2025-09-09 22:39:40.895978] Monitoring attempt: (3) Url: https://www.cnn.com/ Did change?: True | Hashes latest: 3c0a5e1dcb913d707853e19c4a9ac4e4261984f1065aa245053ac386 VS. previous: 27f7278128a22b669c3220dd33f72b49024f038a51a9c7372f70ec84\n",
      "[2025-09-09 22:39:40.977231] Monitoring attempt: (3) Url: https://www.cnnbrasil.com.br/ Did change?: True | Hashes latest: b2466d950aca0b0cedfb27373b15ec1c607747b17f6404ae3a8aad4f VS. previous: fb2133d6b28f3ea97a81a885fa941b489a9ac19304409176d82777d5\n",
      "[2025-09-09 22:39:44.065219] Monitoring attempt: (3) Url: https://www.cnn.com/ Did change?: False | Hashes latest: 3c0a5e1dcb913d707853e19c4a9ac4e4261984f1065aa245053ac386 VS. previous: 3c0a5e1dcb913d707853e19c4a9ac4e4261984f1065aa245053ac386\n",
      "[2025-09-09 22:39:45.982472] Monitoring attempt: (4) Url: https://www.cnn.com/ Did change?: False | Hashes latest: 3c0a5e1dcb913d707853e19c4a9ac4e4261984f1065aa245053ac386 VS. previous: 3c0a5e1dcb913d707853e19c4a9ac4e4261984f1065aa245053ac386\n",
      "[2025-09-09 22:39:46.030177] Monitoring attempt: (4) Url: https://www.cnnbrasil.com.br/ Did change?: False | Hashes latest: b2466d950aca0b0cedfb27373b15ec1c607747b17f6404ae3a8aad4f VS. previous: b2466d950aca0b0cedfb27373b15ec1c607747b17f6404ae3a8aad4f\n",
      "[2025-09-09 22:39:49.144780] Monitoring attempt: (4) Url: https://www.cnn.com/ Did change?: False | Hashes latest: 3c0a5e1dcb913d707853e19c4a9ac4e4261984f1065aa245053ac386 VS. previous: 3c0a5e1dcb913d707853e19c4a9ac4e4261984f1065aa245053ac386\n"
     ]
    },
    {
     "data": {
      "text/html": [
       "<div>\n",
       "<style scoped>\n",
       "    .dataframe tbody tr th:only-of-type {\n",
       "        vertical-align: middle;\n",
       "    }\n",
       "\n",
       "    .dataframe tbody tr th {\n",
       "        vertical-align: top;\n",
       "    }\n",
       "\n",
       "    .dataframe thead th {\n",
       "        text-align: right;\n",
       "    }\n",
       "</style>\n",
       "<table border=\"1\" class=\"dataframe\">\n",
       "  <thead>\n",
       "    <tr style=\"text-align: right;\">\n",
       "      <th></th>\n",
       "      <th>timestamp</th>\n",
       "      <th>attempt</th>\n",
       "      <th>url</th>\n",
       "      <th>changed</th>\n",
       "      <th>latest</th>\n",
       "      <th>previous</th>\n",
       "    </tr>\n",
       "  </thead>\n",
       "  <tbody>\n",
       "    <tr>\n",
       "      <th>0</th>\n",
       "      <td>2025-09-09 22:39:45.981515</td>\n",
       "      <td>4</td>\n",
       "      <td>https://www.cnn.com/</td>\n",
       "      <td>False</td>\n",
       "      <td>3c0a5e1dcb913d707853e19c4a9ac4e4261984f1065aa2...</td>\n",
       "      <td>3c0a5e1dcb913d707853e19c4a9ac4e4261984f1065aa2...</td>\n",
       "    </tr>\n",
       "  </tbody>\n",
       "</table>\n",
       "</div>"
      ],
      "text/plain": [
       "                   timestamp  attempt                   url  changed  \\\n",
       "0 2025-09-09 22:39:45.981515        4  https://www.cnn.com/    False   \n",
       "\n",
       "                                              latest  \\\n",
       "0  3c0a5e1dcb913d707853e19c4a9ac4e4261984f1065aa2...   \n",
       "\n",
       "                                            previous  \n",
       "0  3c0a5e1dcb913d707853e19c4a9ac4e4261984f1065aa2...  "
      ]
     },
     "metadata": {},
     "output_type": "display_data"
    },
    {
     "data": {
      "text/html": [
       "<div>\n",
       "<style scoped>\n",
       "    .dataframe tbody tr th:only-of-type {\n",
       "        vertical-align: middle;\n",
       "    }\n",
       "\n",
       "    .dataframe tbody tr th {\n",
       "        vertical-align: top;\n",
       "    }\n",
       "\n",
       "    .dataframe thead th {\n",
       "        text-align: right;\n",
       "    }\n",
       "</style>\n",
       "<table border=\"1\" class=\"dataframe\">\n",
       "  <thead>\n",
       "    <tr style=\"text-align: right;\">\n",
       "      <th></th>\n",
       "      <th>timestamp</th>\n",
       "      <th>attempt</th>\n",
       "      <th>url</th>\n",
       "      <th>changed</th>\n",
       "      <th>latest</th>\n",
       "      <th>previous</th>\n",
       "    </tr>\n",
       "  </thead>\n",
       "  <tbody>\n",
       "    <tr>\n",
       "      <th>0</th>\n",
       "      <td>2025-09-09 22:39:46.029231</td>\n",
       "      <td>4</td>\n",
       "      <td>https://www.cnnbrasil.com.br/</td>\n",
       "      <td>False</td>\n",
       "      <td>b2466d950aca0b0cedfb27373b15ec1c607747b17f6404...</td>\n",
       "      <td>b2466d950aca0b0cedfb27373b15ec1c607747b17f6404...</td>\n",
       "    </tr>\n",
       "  </tbody>\n",
       "</table>\n",
       "</div>"
      ],
      "text/plain": [
       "                   timestamp  attempt                            url  changed  \\\n",
       "0 2025-09-09 22:39:46.029231        4  https://www.cnnbrasil.com.br/    False   \n",
       "\n",
       "                                              latest  \\\n",
       "0  b2466d950aca0b0cedfb27373b15ec1c607747b17f6404...   \n",
       "\n",
       "                                            previous  \n",
       "0  b2466d950aca0b0cedfb27373b15ec1c607747b17f6404...  "
      ]
     },
     "metadata": {},
     "output_type": "display_data"
    },
    {
     "data": {
      "text/html": [
       "<div>\n",
       "<style scoped>\n",
       "    .dataframe tbody tr th:only-of-type {\n",
       "        vertical-align: middle;\n",
       "    }\n",
       "\n",
       "    .dataframe tbody tr th {\n",
       "        vertical-align: top;\n",
       "    }\n",
       "\n",
       "    .dataframe thead th {\n",
       "        text-align: right;\n",
       "    }\n",
       "</style>\n",
       "<table border=\"1\" class=\"dataframe\">\n",
       "  <thead>\n",
       "    <tr style=\"text-align: right;\">\n",
       "      <th></th>\n",
       "      <th>timestamp</th>\n",
       "      <th>attempt</th>\n",
       "      <th>url</th>\n",
       "      <th>changed</th>\n",
       "      <th>latest</th>\n",
       "      <th>previous</th>\n",
       "    </tr>\n",
       "  </thead>\n",
       "  <tbody>\n",
       "    <tr>\n",
       "      <th>0</th>\n",
       "      <td>2025-09-09 22:39:49.144027</td>\n",
       "      <td>4</td>\n",
       "      <td>https://www.cnn.com/</td>\n",
       "      <td>False</td>\n",
       "      <td>3c0a5e1dcb913d707853e19c4a9ac4e4261984f1065aa2...</td>\n",
       "      <td>3c0a5e1dcb913d707853e19c4a9ac4e4261984f1065aa2...</td>\n",
       "    </tr>\n",
       "  </tbody>\n",
       "</table>\n",
       "</div>"
      ],
      "text/plain": [
       "                   timestamp  attempt                   url  changed  \\\n",
       "0 2025-09-09 22:39:49.144027        4  https://www.cnn.com/    False   \n",
       "\n",
       "                                              latest  \\\n",
       "0  3c0a5e1dcb913d707853e19c4a9ac4e4261984f1065aa2...   \n",
       "\n",
       "                                            previous  \n",
       "0  3c0a5e1dcb913d707853e19c4a9ac4e4261984f1065aa2...  "
      ]
     },
     "metadata": {},
     "output_type": "display_data"
    },
    {
     "name": "stdout",
     "output_type": "stream",
     "text": [
      "\n",
      "As tarefas levaram  54.73 segundo(s) para executar.\n"
     ]
    }
   ],
   "source": [
    "start_time = perf_counter()\n",
    "\n",
    "current_process = multiprocessing.Pool(3)\n",
    "current_process.map(monitor_site, sm.SITES)\n",
    "\n",
    "end_time = perf_counter()\n",
    "\n",
    "print(f'\\nAs tarefas levaram {end_time - start_time: 0.2f} segundo(s) para executar.')"
   ]
  }
 ],
 "metadata": {
  "kernelspec": {
   "display_name": "Python 3",
   "language": "python",
   "name": "python3"
  },
  "language_info": {
   "codemirror_mode": {
    "name": "ipython",
    "version": 3
   },
   "file_extension": ".py",
   "mimetype": "text/x-python",
   "name": "python",
   "nbconvert_exporter": "python",
   "pygments_lexer": "ipython3",
   "version": "3.12.1"
  }
 },
 "nbformat": 4,
 "nbformat_minor": 5
}
