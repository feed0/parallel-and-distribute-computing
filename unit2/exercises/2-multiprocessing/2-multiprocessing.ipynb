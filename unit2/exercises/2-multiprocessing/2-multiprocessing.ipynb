{
 "cells": [
  {
   "cell_type": "markdown",
   "id": "31f14816",
   "metadata": {},
   "source": [
    "# Exercício no 2 - “Monitor com Multiprocessing”\n",
    "\n",
    "> O objetivo deste exercício é adaptar o código do exercício no1 (“Monitor com Threads”) para o\n",
    "uso de multiprocessing.\n",
    "\n",
    "- Crie um “pool” com **3 subprocessos** e distribua os dados utilizando “map”.\n",
    "- O **intervalo de verificação** deverá ser um valor sorteado entre 1 e 5 segundos, não deverá ser\n",
    "passado como parâmetro.\n",
    "- A **quantidade de verificações** será um valor fixo: 5 verificações para cada subprocesso.\n",
    "- Modifique o código e **acrescente mais algumas URLs** de sites de notícias e analise o comportamento do código."
   ]
  },
  {
   "cell_type": "code",
   "execution_count": 5,
   "id": "7e5388cc",
   "metadata": {},
   "outputs": [],
   "source": [
    "import multiprocessing\n",
    "from time import perf_counter\n",
    "from random import randint\n",
    "import os\n",
    "\n",
    "import site_monitoring as sm"
   ]
  },
  {
   "cell_type": "code",
   "execution_count": 2,
   "id": "64f79e31",
   "metadata": {},
   "outputs": [],
   "source": [
    "sm.MONITORING_INTERVAL      = randint(1, 5)\n",
    "sm.MONITORING_COUNT_TARGET  = 5\n",
    "sm.SITES.append('https://www.cnn.com/')"
   ]
  },
  {
   "cell_type": "code",
   "execution_count": null,
   "id": "55d4cdb5",
   "metadata": {},
   "outputs": [],
   "source": [
    "def monitor_site(site: str, sites_data: list):\n",
    "    current_process = multiprocessing.current_process()\n",
    "\n",
    "    site_monitor = sm.SiteMonitor()\n",
    "    site_monitor.monitor(site)\n",
    "\n",
    "    sites_data.append(site_monitor._data)"
   ]
  },
  {
   "cell_type": "code",
   "execution_count": 8,
   "id": "b39200a6",
   "metadata": {},
   "outputs": [
    {
     "ename": "TypeError",
     "evalue": "'<=' not supported between instances of 'list' and 'int'",
     "output_type": "error",
     "traceback": [
      "\u001b[31m---------------------------------------------------------------------------\u001b[39m",
      "\u001b[31mTypeError\u001b[39m                                 Traceback (most recent call last)",
      "\u001b[36mCell\u001b[39m\u001b[36m \u001b[39m\u001b[32mIn[8]\u001b[39m\u001b[32m, line 6\u001b[39m\n\u001b[32m      3\u001b[39m sites_data = []\n\u001b[32m      5\u001b[39m current_process = multiprocessing.Pool(\u001b[32m3\u001b[39m)\n\u001b[32m----> \u001b[39m\u001b[32m6\u001b[39m \u001b[43mcurrent_process\u001b[49m\u001b[43m.\u001b[49m\u001b[43mmap\u001b[49m\u001b[43m(\u001b[49m\u001b[43mmonitor_site\u001b[49m\u001b[43m,\u001b[49m\u001b[43m \u001b[49m\u001b[43msm\u001b[49m\u001b[43m.\u001b[49m\u001b[43mSITES\u001b[49m\u001b[43m,\u001b[49m\u001b[43m \u001b[49m\u001b[43msites_data\u001b[49m\u001b[43m)\u001b[49m\n\u001b[32m      8\u001b[39m end_time = perf_counter()\n\u001b[32m     10\u001b[39m \u001b[38;5;28mprint\u001b[39m(\u001b[33mf\u001b[39m\u001b[33m'\u001b[39m\u001b[38;5;130;01m\\n\u001b[39;00m\u001b[33mAs tarefas levaram \u001b[39m\u001b[38;5;132;01m{\u001b[39;00mend_time\u001b[38;5;250m \u001b[39m-\u001b[38;5;250m \u001b[39mstart_time\u001b[38;5;132;01m:\u001b[39;00m\u001b[33m 0.2f\u001b[39m\u001b[38;5;132;01m}\u001b[39;00m\u001b[33m segundo(s) para executar.\u001b[39m\u001b[33m'\u001b[39m)\n",
      "\u001b[36mFile \u001b[39m\u001b[32m/usr/local/python/3.12.1/lib/python3.12/multiprocessing/pool.py:367\u001b[39m, in \u001b[36mPool.map\u001b[39m\u001b[34m(self, func, iterable, chunksize)\u001b[39m\n\u001b[32m    362\u001b[39m \u001b[38;5;28;01mdef\u001b[39;00m\u001b[38;5;250m \u001b[39m\u001b[34mmap\u001b[39m(\u001b[38;5;28mself\u001b[39m, func, iterable, chunksize=\u001b[38;5;28;01mNone\u001b[39;00m):\n\u001b[32m    363\u001b[39m \u001b[38;5;250m    \u001b[39m\u001b[33;03m'''\u001b[39;00m\n\u001b[32m    364\u001b[39m \u001b[33;03m    Apply `func` to each element in `iterable`, collecting the results\u001b[39;00m\n\u001b[32m    365\u001b[39m \u001b[33;03m    in a list that is returned.\u001b[39;00m\n\u001b[32m    366\u001b[39m \u001b[33;03m    '''\u001b[39;00m\n\u001b[32m--> \u001b[39m\u001b[32m367\u001b[39m     \u001b[38;5;28;01mreturn\u001b[39;00m \u001b[38;5;28;43mself\u001b[39;49m\u001b[43m.\u001b[49m\u001b[43m_map_async\u001b[49m\u001b[43m(\u001b[49m\u001b[43mfunc\u001b[49m\u001b[43m,\u001b[49m\u001b[43m \u001b[49m\u001b[43miterable\u001b[49m\u001b[43m,\u001b[49m\u001b[43m \u001b[49m\u001b[43mmapstar\u001b[49m\u001b[43m,\u001b[49m\u001b[43m \u001b[49m\u001b[43mchunksize\u001b[49m\u001b[43m)\u001b[49m.get()\n",
      "\u001b[36mFile \u001b[39m\u001b[32m/usr/local/python/3.12.1/lib/python3.12/multiprocessing/pool.py:488\u001b[39m, in \u001b[36mPool._map_async\u001b[39m\u001b[34m(self, func, iterable, mapper, chunksize, callback, error_callback)\u001b[39m\n\u001b[32m    485\u001b[39m     chunksize = \u001b[32m0\u001b[39m\n\u001b[32m    487\u001b[39m task_batches = Pool._get_tasks(func, iterable, chunksize)\n\u001b[32m--> \u001b[39m\u001b[32m488\u001b[39m result = \u001b[43mMapResult\u001b[49m\u001b[43m(\u001b[49m\u001b[38;5;28;43mself\u001b[39;49m\u001b[43m,\u001b[49m\u001b[43m \u001b[49m\u001b[43mchunksize\u001b[49m\u001b[43m,\u001b[49m\u001b[43m \u001b[49m\u001b[38;5;28;43mlen\u001b[39;49m\u001b[43m(\u001b[49m\u001b[43miterable\u001b[49m\u001b[43m)\u001b[49m\u001b[43m,\u001b[49m\u001b[43m \u001b[49m\u001b[43mcallback\u001b[49m\u001b[43m,\u001b[49m\n\u001b[32m    489\u001b[39m \u001b[43m                   \u001b[49m\u001b[43merror_callback\u001b[49m\u001b[43m=\u001b[49m\u001b[43merror_callback\u001b[49m\u001b[43m)\u001b[49m\n\u001b[32m    490\u001b[39m \u001b[38;5;28mself\u001b[39m._taskqueue.put(\n\u001b[32m    491\u001b[39m     (\n\u001b[32m    492\u001b[39m         \u001b[38;5;28mself\u001b[39m._guarded_task_generation(result._job,\n\u001b[32m   (...)\u001b[39m\u001b[32m    496\u001b[39m     )\n\u001b[32m    497\u001b[39m )\n\u001b[32m    498\u001b[39m \u001b[38;5;28;01mreturn\u001b[39;00m result\n",
      "\u001b[36mFile \u001b[39m\u001b[32m/usr/local/python/3.12.1/lib/python3.12/multiprocessing/pool.py:802\u001b[39m, in \u001b[36mMapResult.__init__\u001b[39m\u001b[34m(self, pool, chunksize, length, callback, error_callback)\u001b[39m\n\u001b[32m    800\u001b[39m \u001b[38;5;28mself\u001b[39m._value = [\u001b[38;5;28;01mNone\u001b[39;00m] * length\n\u001b[32m    801\u001b[39m \u001b[38;5;28mself\u001b[39m._chunksize = chunksize\n\u001b[32m--> \u001b[39m\u001b[32m802\u001b[39m \u001b[38;5;28;01mif\u001b[39;00m \u001b[43mchunksize\u001b[49m\u001b[43m \u001b[49m\u001b[43m<\u001b[49m\u001b[43m=\u001b[49m\u001b[43m \u001b[49m\u001b[32;43m0\u001b[39;49m:\n\u001b[32m    803\u001b[39m     \u001b[38;5;28mself\u001b[39m._number_left = \u001b[32m0\u001b[39m\n\u001b[32m    804\u001b[39m     \u001b[38;5;28mself\u001b[39m._event.set()\n",
      "\u001b[31mTypeError\u001b[39m: '<=' not supported between instances of 'list' and 'int'"
     ]
    }
   ],
   "source": [
    "start_time = perf_counter()\n",
    "\n",
    "sites_data = []\n",
    "\n",
    "current_process = multiprocessing.Pool(3)\n",
    "current_process.map(monitor_site, sm.SITES, sites_data)\n",
    "\n",
    "end_time = perf_counter()\n",
    "\n",
    "print(f'\\nAs tarefas levaram {end_time - start_time: 0.2f} segundo(s) para executar.')\n"
   ]
  },
  {
   "cell_type": "code",
   "execution_count": 9,
   "id": "f0b6db99",
   "metadata": {},
   "outputs": [
    {
     "ename": "ProxyError",
     "evalue": "None: Max retries exceeded with url: / (Caused by ProxyError('Unable to connect to proxy', NameResolutionError(\"None: Failed to resolve 'bronze2.fapemig.br' ([Errno -2] Name or service not known)\")))",
     "output_type": "error",
     "traceback": [
      "\u001b[31m---------------------------------------------------------------------------\u001b[39m",
      "\u001b[31mRemoteTraceback\u001b[39m                           Traceback (most recent call last)",
      "\u001b[31mRemoteTraceback\u001b[39m: \n\"\"\"\nTraceback (most recent call last):\n  File \"/home/codespace/.local/lib/python3.12/site-packages/urllib3/connection.py\", line 198, in _new_conn\n    sock = connection.create_connection(\n           ^^^^^^^^^^^^^^^^^^^^^^^^^^^^^\n  File \"/home/codespace/.local/lib/python3.12/site-packages/urllib3/util/connection.py\", line 60, in create_connection\n    for res in socket.getaddrinfo(host, port, family, socket.SOCK_STREAM):\n               ^^^^^^^^^^^^^^^^^^^^^^^^^^^^^^^^^^^^^^^^^^^^^^^^^^^^^^^^^^\n  File \"/usr/local/python/3.12.1/lib/python3.12/socket.py\", line 963, in getaddrinfo\n    for res in _socket.getaddrinfo(host, port, family, type, proto, flags):\n               ^^^^^^^^^^^^^^^^^^^^^^^^^^^^^^^^^^^^^^^^^^^^^^^^^^^^^^^^^^^\nsocket.gaierror: [Errno -2] Name or service not known\n\nThe above exception was the direct cause of the following exception:\n\nTraceback (most recent call last):\n  File \"/home/codespace/.local/lib/python3.12/site-packages/urllib3/connectionpool.py\", line 773, in urlopen\n    self._prepare_proxy(conn)\n  File \"/home/codespace/.local/lib/python3.12/site-packages/urllib3/connectionpool.py\", line 1042, in _prepare_proxy\n    conn.connect()\n  File \"/home/codespace/.local/lib/python3.12/site-packages/urllib3/connection.py\", line 753, in connect\n    self.sock = sock = self._new_conn()\n                       ^^^^^^^^^^^^^^^^\n  File \"/home/codespace/.local/lib/python3.12/site-packages/urllib3/connection.py\", line 205, in _new_conn\n    raise NameResolutionError(self.host, self, e) from e\nurllib3.exceptions.NameResolutionError: <urllib3.connection.HTTPSConnection object at 0x708d81222720>: Failed to resolve 'bronze2.fapemig.br' ([Errno -2] Name or service not known)\n\nThe above exception was the direct cause of the following exception:\n\nurllib3.exceptions.ProxyError: ('Unable to connect to proxy', NameResolutionError(\"<urllib3.connection.HTTPSConnection object at 0x708d81222720>: Failed to resolve 'bronze2.fapemig.br' ([Errno -2] Name or service not known)\"))\n\nThe above exception was the direct cause of the following exception:\n\nTraceback (most recent call last):\n  File \"/home/codespace/.local/lib/python3.12/site-packages/requests/adapters.py\", line 667, in send\n    resp = conn.urlopen(\n           ^^^^^^^^^^^^^\n  File \"/home/codespace/.local/lib/python3.12/site-packages/urllib3/connectionpool.py\", line 841, in urlopen\n    retries = retries.increment(\n              ^^^^^^^^^^^^^^^^^^\n  File \"/home/codespace/.local/lib/python3.12/site-packages/urllib3/util/retry.py\", line 519, in increment\n    raise MaxRetryError(_pool, url, reason) from reason  # type: ignore[arg-type]\n    ^^^^^^^^^^^^^^^^^^^^^^^^^^^^^^^^^^^^^^^^^^^^^^^^^^^\nurllib3.exceptions.MaxRetryError: HTTPSConnectionPool(host='noticias.uol.com.br', port=443): Max retries exceeded with url: / (Caused by ProxyError('Unable to connect to proxy', NameResolutionError(\"<urllib3.connection.HTTPSConnection object at 0x708d81222720>: Failed to resolve 'bronze2.fapemig.br' ([Errno -2] Name or service not known)\")))\n\nDuring handling of the above exception, another exception occurred:\n\nTraceback (most recent call last):\n  File \"/usr/local/python/3.12.1/lib/python3.12/multiprocessing/pool.py\", line 125, in worker\n    result = (True, func(*args, **kwds))\n                    ^^^^^^^^^^^^^^^^^^^\n  File \"/usr/local/python/3.12.1/lib/python3.12/multiprocessing/pool.py\", line 48, in mapstar\n    return list(map(*args))\n           ^^^^^^^^^^^^^^^^\n  File \"/tmp/ipykernel_40717/3174076248.py\", line 23, in monitorar\n    r = requests.get(url, headers={'User-Agent': 'Mozilla/5.0'}, proxies=proxies)\n        ^^^^^^^^^^^^^^^^^^^^^^^^^^^^^^^^^^^^^^^^^^^^^^^^^^^^^^^^^^^^^^^^^^^^^^^^^\n  File \"/home/codespace/.local/lib/python3.12/site-packages/requests/api.py\", line 73, in get\n    return request(\"get\", url, params=params, **kwargs)\n           ^^^^^^^^^^^^^^^^^^^^^^^^^^^^^^^^^^^^^^^^^^^^\n  File \"/home/codespace/.local/lib/python3.12/site-packages/requests/api.py\", line 59, in request\n    return session.request(method=method, url=url, **kwargs)\n           ^^^^^^^^^^^^^^^^^^^^^^^^^^^^^^^^^^^^^^^^^^^^^^^^^\n  File \"/home/codespace/.local/lib/python3.12/site-packages/requests/sessions.py\", line 589, in request\n    resp = self.send(prep, **send_kwargs)\n           ^^^^^^^^^^^^^^^^^^^^^^^^^^^^^^\n  File \"/home/codespace/.local/lib/python3.12/site-packages/requests/sessions.py\", line 703, in send\n    r = adapter.send(request, **kwargs)\n        ^^^^^^^^^^^^^^^^^^^^^^^^^^^^^^^\n  File \"/home/codespace/.local/lib/python3.12/site-packages/requests/adapters.py\", line 694, in send\n    raise ProxyError(e, request=request)\nrequests.exceptions.ProxyError: HTTPSConnectionPool(host='noticias.uol.com.br', port=443): Max retries exceeded with url: / (Caused by ProxyError('Unable to connect to proxy', NameResolutionError(\"<urllib3.connection.HTTPSConnection object at 0x708d81222720>: Failed to resolve 'bronze2.fapemig.br' ([Errno -2] Name or service not known)\")))\n\"\"\"",
      "\nThe above exception was the direct cause of the following exception:\n",
      "\u001b[31mProxyError\u001b[39m                                Traceback (most recent call last)",
      "\u001b[36mCell\u001b[39m\u001b[36m \u001b[39m\u001b[32mIn[9]\u001b[39m\u001b[32m, line 43\u001b[39m\n\u001b[32m     40\u001b[39m sites = [\u001b[33m'\u001b[39m\u001b[33mhttps://g1.globo.com/\u001b[39m\u001b[33m'\u001b[39m, \u001b[33m'\u001b[39m\u001b[33mhttps://noticias.uol.com.br/\u001b[39m\u001b[33m'\u001b[39m, \u001b[33m'\u001b[39m\u001b[33mhttps://www.r7.com/\u001b[39m\u001b[33m'\u001b[39m, \u001b[33m'\u001b[39m\u001b[33mhttps://www.cnnbrasil.com.br/\u001b[39m\u001b[33m'\u001b[39m]\n\u001b[32m     42\u001b[39m p = multiprocessing.Pool(\u001b[32m3\u001b[39m)\n\u001b[32m---> \u001b[39m\u001b[32m43\u001b[39m \u001b[43mp\u001b[49m\u001b[43m.\u001b[49m\u001b[43mmap\u001b[49m\u001b[43m(\u001b[49m\u001b[43mmonitorar\u001b[49m\u001b[43m,\u001b[49m\u001b[43m \u001b[49m\u001b[43msites\u001b[49m\u001b[43m)\u001b[49m\n",
      "\u001b[36mFile \u001b[39m\u001b[32m/usr/local/python/3.12.1/lib/python3.12/multiprocessing/pool.py:367\u001b[39m, in \u001b[36mPool.map\u001b[39m\u001b[34m(self, func, iterable, chunksize)\u001b[39m\n\u001b[32m    362\u001b[39m \u001b[38;5;28;01mdef\u001b[39;00m\u001b[38;5;250m \u001b[39m\u001b[34mmap\u001b[39m(\u001b[38;5;28mself\u001b[39m, func, iterable, chunksize=\u001b[38;5;28;01mNone\u001b[39;00m):\n\u001b[32m    363\u001b[39m \u001b[38;5;250m    \u001b[39m\u001b[33;03m'''\u001b[39;00m\n\u001b[32m    364\u001b[39m \u001b[33;03m    Apply `func` to each element in `iterable`, collecting the results\u001b[39;00m\n\u001b[32m    365\u001b[39m \u001b[33;03m    in a list that is returned.\u001b[39;00m\n\u001b[32m    366\u001b[39m \u001b[33;03m    '''\u001b[39;00m\n\u001b[32m--> \u001b[39m\u001b[32m367\u001b[39m     \u001b[38;5;28;01mreturn\u001b[39;00m \u001b[38;5;28;43mself\u001b[39;49m\u001b[43m.\u001b[49m\u001b[43m_map_async\u001b[49m\u001b[43m(\u001b[49m\u001b[43mfunc\u001b[49m\u001b[43m,\u001b[49m\u001b[43m \u001b[49m\u001b[43miterable\u001b[49m\u001b[43m,\u001b[49m\u001b[43m \u001b[49m\u001b[43mmapstar\u001b[49m\u001b[43m,\u001b[49m\u001b[43m \u001b[49m\u001b[43mchunksize\u001b[49m\u001b[43m)\u001b[49m\u001b[43m.\u001b[49m\u001b[43mget\u001b[49m\u001b[43m(\u001b[49m\u001b[43m)\u001b[49m\n",
      "\u001b[36mFile \u001b[39m\u001b[32m/usr/local/python/3.12.1/lib/python3.12/multiprocessing/pool.py:774\u001b[39m, in \u001b[36mApplyResult.get\u001b[39m\u001b[34m(self, timeout)\u001b[39m\n\u001b[32m    772\u001b[39m     \u001b[38;5;28;01mreturn\u001b[39;00m \u001b[38;5;28mself\u001b[39m._value\n\u001b[32m    773\u001b[39m \u001b[38;5;28;01melse\u001b[39;00m:\n\u001b[32m--> \u001b[39m\u001b[32m774\u001b[39m     \u001b[38;5;28;01mraise\u001b[39;00m \u001b[38;5;28mself\u001b[39m._value\n",
      "\u001b[31mProxyError\u001b[39m: None: Max retries exceeded with url: / (Caused by ProxyError('Unable to connect to proxy', NameResolutionError(\"None: Failed to resolve 'bronze2.fapemig.br' ([Errno -2] Name or service not known)\")))"
     ]
    }
   ],
   "source": [
    "import multiprocessing\n",
    "from time import sleep\n",
    "from random import randint\n",
    "from datetime import datetime\n",
    "import random\n",
    "import requests\n",
    "import hashlib\n",
    "\n",
    "def monitorar(url):\n",
    "    p = multiprocessing.current_process()\n",
    "\n",
    "    proxies = {\n",
    "      'http': 'http://bronze2.fapemig.br:3128',\n",
    "      'https': 'http://bronze2.fapemig.br:3128'\n",
    "    }\n",
    "\n",
    "    mudancas = 0\n",
    "\n",
    "    cont = 5\n",
    "    intervalo = random.randint(1, 5)\n",
    "\n",
    "    for i in range(cont):\n",
    "        r = requests.get(url, headers={'User-Agent': 'Mozilla/5.0'}, proxies=proxies)\n",
    "        conteudo = repr(r.text).encode('utf-8')\n",
    "\n",
    "        hash_site = hashlib.sha224(conteudo).hexdigest()\n",
    "        print('[' + str(datetime.now()) + '] Processo : ' + str(p.pid) + ' Url : ' + url + ' Hash: ' + str(hash_site))\n",
    "\n",
    "        if i == 0:\n",
    "            old_hash_site = hash_site\n",
    "        else:\n",
    "            if old_hash_site != hash_site:\n",
    "                mudancas += 1\n",
    "                old_hash_site = hash_site\n",
    "\n",
    "        sleep(intervalo)\n",
    "    print('[' + str(datetime.now()) + '] FINALIZADO - Processo : ' + str(p.pid) + ' Url : ' + url + ' Mudancas : ' + str(mudancas))\n",
    "\n",
    "if __name__ == '__main__':\n",
    "    sites = ['https://g1.globo.com/', 'https://noticias.uol.com.br/', 'https://www.r7.com/', 'https://www.cnnbrasil.com.br/']\n",
    "\n",
    "    p = multiprocessing.Pool(3)\n",
    "    p.map(monitorar, sites)"
   ]
  }
 ],
 "metadata": {
  "kernelspec": {
   "display_name": "Python 3",
   "language": "python",
   "name": "python3"
  },
  "language_info": {
   "codemirror_mode": {
    "name": "ipython",
    "version": 3
   },
   "file_extension": ".py",
   "mimetype": "text/x-python",
   "name": "python",
   "nbconvert_exporter": "python",
   "pygments_lexer": "ipython3",
   "version": "3.12.1"
  }
 },
 "nbformat": 4,
 "nbformat_minor": 5
}
