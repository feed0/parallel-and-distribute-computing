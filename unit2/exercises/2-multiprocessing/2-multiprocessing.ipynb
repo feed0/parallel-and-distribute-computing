{
 "cells": [
  {
   "cell_type": "markdown",
   "id": "31f14816",
   "metadata": {},
   "source": [
    "# Exercício no 2 - “Monitor com Multiprocessing”\n",
    "\n",
    "> O objetivo deste exercício é adaptar o código do exercício no1 (“Monitor com Threads”) para o\n",
    "uso de multiprocessing.\n",
    "\n",
    "- Crie um “pool” com 3 subprocessos e distribua os dados utilizando “map”.\n",
    "- O intervalo de verificação deverá ser um valor sorteado entre 1 e 5 segundos, não deverá ser\n",
    "passado como parâmetro.\n",
    "- A quantidade de verificações será um valor fixo: 5 verificações para cada subprocesso.\n",
    "- Modifique o código e acrescente mais algumas URLs de sites de notícias e analise o comportamento do código."
   ]
  }
 ],
 "metadata": {
  "language_info": {
   "name": "python"
  }
 },
 "nbformat": 4,
 "nbformat_minor": 5
}
