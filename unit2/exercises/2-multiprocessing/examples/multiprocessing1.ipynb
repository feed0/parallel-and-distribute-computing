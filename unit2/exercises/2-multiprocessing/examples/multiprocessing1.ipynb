{
 "cells": [
  {
   "cell_type": "code",
   "execution_count": 1,
   "id": "011b12de",
   "metadata": {},
   "outputs": [],
   "source": [
    "import multiprocessing\n",
    "from time import sleep, perf_counter\n",
    "from random import randint\n",
    "import os"
   ]
  },
  {
   "cell_type": "code",
   "execution_count": 2,
   "id": "51315a00",
   "metadata": {},
   "outputs": [],
   "source": [
    "def task():\n",
    "    current_process = multiprocessing.current_process()\n",
    "    process_id = current_process.pid\n",
    "    \n",
    "    time = randint(1, 5)\n",
    "    # print(f'\\nPID: {process_id} will wait {time} second(s)')\n",
    "\n",
    "    sleep(time)\n",
    "    print(f'[Done] PID: {process_id} took {time} second(s)')"
   ]
  },
  {
   "cell_type": "code",
   "execution_count": 3,
   "id": "e6e8d146",
   "metadata": {},
   "outputs": [
    {
     "name": "stdout",
     "output_type": "stream",
     "text": [
      "Quant. de nucleos : 2 \n",
      "PID do processo principal : 9029\n",
      "\n",
      "[Done] PID: 9042 took 3 second(s)\n",
      "[Done] PID: 9043 took 5 second(s)\n",
      "\n",
      "As tarefas levaram  5.02 segundo(s) para executar.\n"
     ]
    }
   ],
   "source": [
    "start_time = perf_counter()\n",
    "\n",
    "print(f'''Quant. de nucleos : {multiprocessing.cpu_count()} \n",
    "PID do processo principal : {os.getpid()}\n",
    "''')\n",
    "\n",
    "# Cria dois subprocessos\n",
    "p1 = multiprocessing.Process(target=task)\n",
    "p2 = multiprocessing.Process(target=task)\n",
    "\n",
    "# Inicializa os processos\n",
    "p1.start()\n",
    "p2.start()\n",
    "\n",
    "# Aguarda até que as threads sejam completadas\n",
    "p1.join()\n",
    "p2.join()\n",
    "\n",
    "end_time = perf_counter()\n",
    "\n",
    "print(f'\\nAs tarefas levaram {end_time - start_time: 0.2f} segundo(s) para executar.')"
   ]
  }
 ],
 "metadata": {
  "kernelspec": {
   "display_name": "Python 3",
   "language": "python",
   "name": "python3"
  },
  "language_info": {
   "codemirror_mode": {
    "name": "ipython",
    "version": 3
   },
   "file_extension": ".py",
   "mimetype": "text/x-python",
   "name": "python",
   "nbconvert_exporter": "python",
   "pygments_lexer": "ipython3",
   "version": "3.12.1"
  }
 },
 "nbformat": 4,
 "nbformat_minor": 5
}
