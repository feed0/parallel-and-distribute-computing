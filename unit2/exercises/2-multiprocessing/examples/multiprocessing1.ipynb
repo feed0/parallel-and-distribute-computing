{
 "cells": [
  {
   "cell_type": "code",
   "execution_count": 2,
   "id": "011b12de",
   "metadata": {},
   "outputs": [],
   "source": [
    "import multiprocessing\n",
    "from time import sleep, perf_counter\n",
    "from random import randint\n",
    "import os"
   ]
  },
  {
   "cell_type": "code",
   "execution_count": 3,
   "id": "51315a00",
   "metadata": {},
   "outputs": [],
   "source": [
    "def tarefa():\n",
    "    current_process = multiprocessing.current_process()\n",
    "    process_id = current_process.pid\n",
    "    tempo = randint(1, 5)\n",
    "    \n",
    "    print('\\nPID subprocesso = ' + str(process_id))\n",
    "    print(f'Vai esperar {tempo} segundo(s)')\n",
    "\n",
    "    sleep(tempo)\n",
    "    print('Feito')"
   ]
  },
  {
   "cell_type": "code",
   "execution_count": 4,
   "id": "e6e8d146",
   "metadata": {},
   "outputs": [
    {
     "name": "stdout",
     "output_type": "stream",
     "text": [
      "Quant. de nucleos :  2\n",
      "PID do processo principal :  26646\n",
      "\n",
      "\n",
      "PID subprocesso = 32646\n",
      "Vai esperar 3 segundo(s)\n",
      "\n",
      "PID subprocesso = 32649\n",
      "Vai esperar 1 segundo(s)\n",
      "Feito\n",
      "Feito\n",
      "\n",
      "As tarefas levaram  3.03 segundo(s) para executar.\n"
     ]
    }
   ],
   "source": [
    "start_time = perf_counter()\n",
    "\n",
    "print('Quant. de nucleos : ', multiprocessing.cpu_count())\n",
    "print('PID do processo principal : ', os.getpid())\n",
    "print('')\n",
    "\n",
    "# Cria dois subprocessos\n",
    "p1 = multiprocessing.Process(target=tarefa)\n",
    "p2 = multiprocessing.Process(target=tarefa)\n",
    "\n",
    "# Inicializa os processos\n",
    "p1.start()\n",
    "p2.start()\n",
    "\n",
    "# Aguarda até que as threads sejam completadas\n",
    "p1.join()\n",
    "p2.join()\n",
    "\n",
    "end_time = perf_counter()\n",
    "\n",
    "print(f'\\nAs tarefas levaram {end_time - start_time: 0.2f} segundo(s) para executar.')"
   ]
  }
 ],
 "metadata": {
  "kernelspec": {
   "display_name": "Python 3",
   "language": "python",
   "name": "python3"
  },
  "language_info": {
   "codemirror_mode": {
    "name": "ipython",
    "version": 3
   },
   "file_extension": ".py",
   "mimetype": "text/x-python",
   "name": "python",
   "nbconvert_exporter": "python",
   "pygments_lexer": "ipython3",
   "version": "3.12.1"
  }
 },
 "nbformat": 4,
 "nbformat_minor": 5
}
