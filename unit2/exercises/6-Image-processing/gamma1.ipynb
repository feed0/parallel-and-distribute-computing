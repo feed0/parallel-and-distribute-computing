{
 "cells": [
  {
   "cell_type": "markdown",
   "id": "2a6291b6",
   "metadata": {},
   "source": [
    "Loads a .jpg image and performs brightness and contrast adjustment.\n",
    "\n",
    "22/08/2022"
   ]
  },
  {
   "cell_type": "code",
   "execution_count": 1,
   "id": "fd5b9371",
   "metadata": {},
   "outputs": [],
   "source": [
    "import numpy as np\n",
    "from PIL import Image\n",
    "from time import perf_counter"
   ]
  },
  {
   "cell_type": "code",
   "execution_count": 2,
   "id": "942c1006",
   "metadata": {},
   "outputs": [],
   "source": [
    "def define_brilho(matriz, alpha, beta):\n",
    "    # Cria-se uma imagem temporária, \"vazia\", com as dimensões e tipo da original (passada por parâmetro)\n",
    "    imagem_result = np.zeros(matriz.shape, matriz.dtype)\n",
    "\n",
    "    # Obtem-se as dimensões e quantidade de canais da imagem original (passada por parâmetro)\n",
    "    # No nosso caso, vamos obter as dimensões em pixels (y, x) e a quantidade de canais (RGB = 3)\n",
    "    y, x, c = matriz.shape\n",
    "\n",
    "    # Percorre todos os pares x,y da imagem em todos os canais\n",
    "    for ypos in range(y):\n",
    "        for xpos in range(x):\n",
    "            for canal in range(c):\n",
    "                # Realiza-se os cálculos necessários para cada ponto e canal, mantendo o valor resultante dentro\n",
    "                # do limite de 0 a 255\n",
    "                imagem_result[ypos, xpos, canal] = np.clip((alpha * matriz[ypos, xpos, canal]) + beta, 0, 255)\n",
    "\n",
    "    # Retorna a matriz modificada da imagem\n",
    "    return imagem_result"
   ]
  },
  {
   "cell_type": "code",
   "execution_count": 7,
   "id": "ddb42da6",
   "metadata": {},
   "outputs": [
    {
     "name": "stderr",
     "output_type": "stream",
     "text": [
      "/tmp/ipykernel_5747/3816643240.py:15: RuntimeWarning: overflow encountered in scalar add\n",
      "  imagem_result[ypos, xpos, canal] = np.clip((alpha * matriz[ypos, xpos, canal]) + beta, 0, 255)\n",
      "/tmp/ipykernel_5747/3816643240.py:15: RuntimeWarning: overflow encountered in scalar multiply\n",
      "  imagem_result[ypos, xpos, canal] = np.clip((alpha * matriz[ypos, xpos, canal]) + beta, 0, 255)\n"
     ]
    },
    {
     "name": "stdout",
     "output_type": "stream",
     "text": [
      "As tarefas levaram  10.33 segundo(s) para executar.\n"
     ]
    }
   ],
   "source": [
    "start_time = perf_counter()\n",
    "\n",
    "# Carrega uma imagem de um arquivo\n",
    "img = Image.open('img001.jpg')\n",
    "\n",
    "# Converte a imagem em uma matriz RGB\n",
    "imagem_original = np.asarray(img)\n",
    "\n",
    "# Executa a função de contraste e brilho\n",
    "imagem_brilho = define_brilho(imagem_original, 3, 100)\n",
    "\n",
    "# Salva a nova imagem (matriz) em um novo arquivo\n",
    "imagem2 = Image.fromarray(imagem_brilho)\n",
    "imagem2.save('img002.jpg')\n",
    "\n",
    "end_time = perf_counter()\n",
    "print(f'As tarefas levaram {end_time- start_time: 0.2f} segundo(s) para executar.')"
   ]
  }
 ],
 "metadata": {
  "kernelspec": {
   "display_name": "Python 3",
   "language": "python",
   "name": "python3"
  },
  "language_info": {
   "codemirror_mode": {
    "name": "ipython",
    "version": 3
   },
   "file_extension": ".py",
   "mimetype": "text/x-python",
   "name": "python",
   "nbconvert_exporter": "python",
   "pygments_lexer": "ipython3",
   "version": "3.12.1"
  }
 },
 "nbformat": 4,
 "nbformat_minor": 5
}
