{
 "cells": [
  {
   "cell_type": "markdown",
   "id": "18874a56",
   "metadata": {},
   "source": [
    "# Exercício no 3\n",
    "## “Ordenação Paralela com Multithreading”\n",
    "\n",
    "### Os objetivos deste exercício são:\n",
    "(a) modificar o algoritmo de ordenação “Bubble Sort” sequencial (bubblesort_seq.py) para\n",
    "que obtenha melhor performance utilizando técnicas de paralelismo;\n",
    "<br>(b) executar os algoritmos (sequencial e paralelo) para as seguintes quantidades de\n",
    "elementos 1000, 2000, 4000, 8000 e 16000;\n",
    "<br>(c) criar um gráfico com a quantidade de **elementos _x_ tempo** de execução para os dois\n",
    "algoritmos;\n",
    "<br>(d) demonstrar/explicar o algoritmo e apontar possíveis limitações.\n",
    "\n",
    "###  Regra: \n",
    "- Não utilizar códigos de algoritmos como Quick Sort, Shell Sort etc., ou funções prontas deordenação da própria linguagem (built-in ou não).\n",
    "- A ideia central é manter a essência sobre as trocas de valores! Imagine que o Bubble Sort seja o melhor algoritmo de ordenação e o\n",
    "paralelismo talvez possa trazer um ganho de performance.\n",
    "\n",
    "Duas formas mais comuns de explorar o paralelismo\n",
    "- Decomposição/partição do domínio\n",
    "- paralelismo de dados (conj. de dados é dividido em pedaços e cada um é\n",
    "entregue a uma thread);\n",
    "- ideal para problemas regulares;\n",
    "- ex.: multiplicação de matrizes, cada parte pode ser alocada em uma thread.\n",
    "\n",
    "Decomposição em funções\n",
    "- paralelismo de funções (cada tarefa é entregue a um thread);\n",
    "- identificar as tarefas a serem paralelizadas;\n",
    "- identificar as dependências entre as tarefas;\n",
    "- ex.: tratamento de eventos em uma interface gráfica."
   ]
  },
  {
   "cell_type": "code",
   "execution_count": 1,
   "id": "21cacc79",
   "metadata": {},
   "outputs": [],
   "source": [
    "from time import perf_counter\n",
    "from random import randint"
   ]
  },
  {
   "cell_type": "code",
   "execution_count": 2,
   "id": "b9370565",
   "metadata": {},
   "outputs": [],
   "source": [
    "def bubblesort(lista):\n",
    "    for i in range(len(lista)):\n",
    "        for j in range(0, len(lista) - i - 1):\n",
    "            if lista[j] > lista[j + 1]:\n",
    "                lista[j], lista[j+1] = lista[j+1], lista[j]"
   ]
  },
  {
   "cell_type": "code",
   "execution_count": null,
   "id": "3e3da8c1",
   "metadata": {},
   "outputs": [
    {
     "name": "stdout",
     "output_type": "stream",
     "text": [
      "Lista original : [2, 1, 3, 5, 4]\n",
      "Lista ordenada : [1, 2, 3, 4, 5]\n",
      "\n",
      "A ordenacao levou  0.00 segundo(s).\n"
     ]
    }
   ],
   "source": [
    "lista = []\n",
    "\n",
    "for i in range(5):\n",
    "    lista.append(randint(1, 5))\n",
    "\n",
    "start_time = perf_counter()\n",
    "\n",
    "print('Lista original : ' + str(lista))\n",
    "\n",
    "\n",
    "\n",
    "print('Lista ordenada : ' + str(lista))\n",
    "\n",
    "end_time = perf_counter()\n",
    "\n",
    "print(f'\\nA ordenacao levou {end_time - start_time: 0.2f} segundo(s).')"
   ]
  },
  {
   "cell_type": "code",
   "execution_count": null,
   "id": "99dbe1bc",
   "metadata": {},
   "outputs": [],
   "source": []
  }
 ],
 "metadata": {
  "kernelspec": {
   "display_name": "Python 3",
   "language": "python",
   "name": "python3"
  },
  "language_info": {
   "codemirror_mode": {
    "name": "ipython",
    "version": 3
   },
   "file_extension": ".py",
   "mimetype": "text/x-python",
   "name": "python",
   "nbconvert_exporter": "python",
   "pygments_lexer": "ipython3",
   "version": "3.12.1"
  }
 },
 "nbformat": 4,
 "nbformat_minor": 5
}
