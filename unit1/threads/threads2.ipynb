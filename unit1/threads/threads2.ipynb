{
 "cells": [
  {
   "cell_type": "code",
   "execution_count": 1,
   "id": "785fd27d",
   "metadata": {},
   "outputs": [
    {
     "name": "stdout",
     "output_type": "stream",
     "text": [
      "\n",
      " Inicializando a tarefa 1...\n",
      " >> Vai esperar 5 segundo(s)\n",
      "\n",
      " Inicializando a tarefa 2...\n",
      " >> Vai esperar 2 segundo(s)\n",
      "\n",
      " Inicializando a tarefa 3...\n",
      " >> Vai esperar 2 segundo(s)\n",
      "\n",
      " Inicializando a tarefa 4...\n",
      " >> Vai esperar 3 segundo(s)\n",
      "\n",
      " Inicializando a tarefa 5...\n",
      " >> Vai esperar 5 segundo(s)\n",
      " >> A tarefa 2 foi completada\n",
      " >> A tarefa 3 foi completada\n",
      " >> A tarefa 4 foi completada\n",
      " >> A tarefa 1 foi completada\n",
      " >> A tarefa 5 foi completada\n",
      "As tarefas levaram  5.00 segundo(s) para executar.\n"
     ]
    }
   ],
   "source": [
    "from time import sleep, perf_counter\n",
    "from threading import Thread\n",
    "from random import randint\n",
    "\n",
    "def tarefa(id):\n",
    "    print(f'\\n Inicializando a tarefa {id}...')\n",
    "    tempo = randint(1, 5)\n",
    "    print(f' >> Vai esperar {tempo} segundo(s)')\n",
    "    sleep(tempo)\n",
    "    print(f' >> A tarefa {id} foi completada')\n",
    "\n",
    "start_time = perf_counter()\n",
    "\n",
    "# Criando e inicializando 5 threads\n",
    "threads = []\n",
    "for n in range(1, 6):\n",
    "    t = Thread(target=tarefa, args=(n,))\n",
    "    threads.append(t)\n",
    "    t.start()\n",
    "\n",
    "# Aguardando as threads finalizarem para o codigo continuar a execucao\n",
    "for t in threads:\n",
    "    t.join()\n",
    "\n",
    "end_time = perf_counter()\n",
    "\n",
    "print(f'As tarefas levaram {end_time- start_time: 0.2f} segundo(s) para executar.')"
   ]
  },
  {
   "cell_type": "code",
   "execution_count": null,
   "id": "9cdcf119",
   "metadata": {},
   "outputs": [],
   "source": []
  }
 ],
 "metadata": {
  "kernelspec": {
   "display_name": "base",
   "language": "python",
   "name": "python3"
  },
  "language_info": {
   "codemirror_mode": {
    "name": "ipython",
    "version": 3
   },
   "file_extension": ".py",
   "mimetype": "text/x-python",
   "name": "python",
   "nbconvert_exporter": "python",
   "pygments_lexer": "ipython3",
   "version": "3.12.3"
  }
 },
 "nbformat": 4,
 "nbformat_minor": 5
}
