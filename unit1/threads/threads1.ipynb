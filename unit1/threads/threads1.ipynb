{
 "cells": [
  {
   "cell_type": "code",
   "execution_count": null,
   "metadata": {},
   "outputs": [
    {
     "name": "stdout",
     "output_type": "stream",
     "text": [
      "Iniciando tarefa...\n",
      "Vai esperar 5 segundo(s)\n",
      "Iniciando tarefa...\n",
      "Vai esperar 2 segundo(s)\n",
      "Feito\n",
      "Feito\n",
      "As tarefas levaram  5.00 segundo(s) para executar.\n"
     ]
    }
   ],
   "source": [
    "from time import sleep, perf_counter\n",
    "from threading import Thread\n",
    "from random import randint\n",
    "\n",
    "def tarefa():\n",
    "    print('Iniciando tarefa...')\n",
    "    tempo = randint(1, 5)\n",
    "    print(f'Vai esperar {tempo} segundo(s)')\n",
    "    sleep(tempo)\n",
    "    print('Feito')\n",
    "\n",
    "start_time = perf_counter()\n",
    "\n",
    "# Cria duas threads\n",
    "t1 = Thread(target=tarefa)\n",
    "t2 = Thread(target=tarefa)\n",
    "\n",
    "# Inicializa as threads\n",
    "t1.start()\n",
    "t2.start()\n",
    "\n",
    "# Aguarda até que as threads sejam completadas\n",
    "t1.join()\n",
    "t2.join()\n",
    "\n",
    "end_time = perf_counter()\n",
    "\n",
    "print(f'As tarefas levaram {end_time - start_time: 0.2f} segundo(s) para executar.')"
   ]
  }
 ],
 "metadata": {
  "kernelspec": {
   "display_name": "base",
   "language": "python",
   "name": "python3"
  },
  "language_info": {
   "codemirror_mode": {
    "name": "ipython",
    "version": 3
   },
   "file_extension": ".py",
   "mimetype": "text/x-python",
   "name": "python",
   "nbconvert_exporter": "python",
   "pygments_lexer": "ipython3",
   "version": "3.12.3"
  }
 },
 "nbformat": 4,
 "nbformat_minor": 5
}
